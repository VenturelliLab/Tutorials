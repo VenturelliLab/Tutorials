{
 "cells": [
  {
   "cell_type": "markdown",
   "metadata": {},
   "source": [
    "# Introduction to Python"
   ]
  },
  {
   "cell_type": "markdown",
   "metadata": {},
   "source": [
    "### Unlike Matlab, Python requires importing functions in order to perform some operations. \n",
    "\n",
    "For example, in Matlab we can create an array and perform matrix multiplication by simply using the * operation:\n",
    "\n",
    "% Matlab syntax to multiply a matrix into a vector:\n",
    "\n",
    "A = [[1,2];[3,4]]; \n",
    "\n",
    "b = [1,2]';\n",
    "\n",
    "A*b\n",
    "\n",
    "ans =\n",
    "\n",
    "     5\n",
    "    11"
   ]
  },
  {
   "cell_type": "markdown",
   "metadata": {},
   "source": [
    "### Trying the same syntax that was used in Matlab results in an error in Python"
   ]
  },
  {
   "cell_type": "code",
   "execution_count": 1,
   "metadata": {},
   "outputs": [
    {
     "ename": "TypeError",
     "evalue": "can't multiply sequence by non-int of type 'list'",
     "output_type": "error",
     "traceback": [
      "\u001b[1;31m---------------------------------------------------------------------------\u001b[0m",
      "\u001b[1;31mTypeError\u001b[0m                                 Traceback (most recent call last)",
      "\u001b[1;32m<ipython-input-1-e87c93b96aa1>\u001b[0m in \u001b[0;36m<module>\u001b[1;34m\u001b[0m\n\u001b[0;32m      5\u001b[0m \u001b[0mb\u001b[0m \u001b[1;33m=\u001b[0m \u001b[1;33m[\u001b[0m\u001b[1;36m1\u001b[0m\u001b[1;33m,\u001b[0m\u001b[1;36m2\u001b[0m\u001b[1;33m]\u001b[0m\u001b[1;33m\u001b[0m\u001b[1;33m\u001b[0m\u001b[0m\n\u001b[0;32m      6\u001b[0m \u001b[1;33m\u001b[0m\u001b[0m\n\u001b[1;32m----> 7\u001b[1;33m \u001b[0mA\u001b[0m\u001b[1;33m*\u001b[0m\u001b[0mb\u001b[0m\u001b[1;33m\u001b[0m\u001b[1;33m\u001b[0m\u001b[0m\n\u001b[0m",
      "\u001b[1;31mTypeError\u001b[0m: can't multiply sequence by non-int of type 'list'"
     ]
    }
   ],
   "source": [
    "# cells like this allow you to run code in Python \n",
    "\n",
    "A = [[1,2],[3,4]]\n",
    "\n",
    "b = [1,2]\n",
    "\n",
    "A*b"
   ]
  },
  {
   "cell_type": "markdown",
   "metadata": {},
   "source": [
    "### The above error results because Python doesn't consider A and b to be matrices and vectors\n",
    "\n",
    "In Python, writing something like b = [1, 2, 3], will work but it creates a *list* instead of a *vector* \n",
    "\n",
    "In order to recreate data objects like vectors and matrices, we can \"import libraries\", which means that we can import functions that allow us to create matrices and vectors. "
   ]
  },
  {
   "cell_type": "code",
   "execution_count": 2,
   "metadata": {},
   "outputs": [],
   "source": [
    "# The most commonly used library for performing math in Python is called \"numpy\" \n",
    "import numpy "
   ]
  },
  {
   "cell_type": "markdown",
   "metadata": {},
   "source": [
    "### Now that we have numpy, we can use it to create matrices and vectors using the \"array\" function"
   ]
  },
  {
   "cell_type": "code",
   "execution_count": 3,
   "metadata": {},
   "outputs": [
    {
     "data": {
      "text/plain": [
       "array([[1, 4],\n",
       "       [3, 8]])"
      ]
     },
     "execution_count": 3,
     "metadata": {},
     "output_type": "execute_result"
    }
   ],
   "source": [
    "A = numpy.array([[1,2],[3,4]])\n",
    "\n",
    "b = numpy.array([1,2])\n",
    "\n",
    "A*b"
   ]
  },
  {
   "cell_type": "markdown",
   "metadata": {},
   "source": [
    "### We no longer have a syntax error, but the output doesn't match Matlab's output for A*b \n",
    "\n",
    "The default in Matlab is that * results in convential Matrix multiplication, however this is NOT the case in Python. \n",
    "\n",
    "In order to do matrix multiplication, we have to call another function from numpy. "
   ]
  },
  {
   "cell_type": "code",
   "execution_count": 4,
   "metadata": {},
   "outputs": [
    {
     "data": {
      "text/plain": [
       "array([ 5, 11])"
      ]
     },
     "execution_count": 4,
     "metadata": {},
     "output_type": "execute_result"
    }
   ],
   "source": [
    "# now the output will match Matlab's A*b \n",
    "numpy.dot(A,b)"
   ]
  },
  {
   "cell_type": "markdown",
   "metadata": {},
   "source": [
    "### Importing libraries in Python offers (free) tools to perform almost any function that Matlab can perform\n",
    "\n",
    "To find these libraries, you'll usually have to Google the function of interest, find the library that supports that function, and install the library. Once the library is installed, you can import it and run the function in your Python script. "
   ]
  }
 ],
 "metadata": {
  "kernelspec": {
   "display_name": "Python 3 (ipykernel)",
   "language": "python",
   "name": "python3"
  },
  "language_info": {
   "codemirror_mode": {
    "name": "ipython",
    "version": 3
   },
   "file_extension": ".py",
   "mimetype": "text/x-python",
   "name": "python",
   "nbconvert_exporter": "python",
   "pygments_lexer": "ipython3",
   "version": "3.9.7"
  }
 },
 "nbformat": 4,
 "nbformat_minor": 4
}
