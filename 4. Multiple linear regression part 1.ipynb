{
 "cells": [
  {
   "cell_type": "markdown",
   "metadata": {},
   "source": [
    "# Parameter estimation for linear regression with multiple variables"
   ]
  },
  {
   "cell_type": "markdown",
   "metadata": {},
   "source": [
    "Suppose we have observations of butyrate production (denoted as 'y') that we hypothesize to depend linearly on the abundances of *multiple* species, where we have $m$ different species to consider. We can write this dependence as, \n",
    "\n",
    "$$\n",
    "y = w_1 x_1 + ... + w_m x_m = \\sum_{j = 1}^m w_j  x_j\n",
    "$$\n",
    "where $w_1, ..., w_m$ is now a vector of unknown parameters that we have to find. \n",
    "\n",
    "If we have $n$ observations of both the species abundance and the resulting butyrate production, then we change the notation to show the prediction of observation $i$ where $i = 1, ..., n$. \n",
    "\n",
    "$$\n",
    "y_i = \\sum_{j = 1}^m w_j x_{ij} \n",
    "$$\n",
    "\n",
    "We now need to find the optimal values for all of the parameters, $w_1, ..., w_m$. The optimal values can still be found using the same sum of squares objective function:\n",
    "\n",
    "$$\n",
    "(w_1, ..., w_m)^* = \\underset{w_1, ..., w_m}{\\text{argmin}} \\sum_{i = 1}^n \\left( y_i - \\sum_{j = 1}^m w_j x_{ij} \\right)^2 \n",
    "$$\n",
    "\n",
    "This problem can be solved analytically, in the same way as in the single variable case, though it's very challenging to tackle without using a more convenient notation.  \n",
    "\n",
    "The above equations can be written in a more compact form using matrix-vector notation. Vectors such as the vector of unknown parameters are written using bold script, e.g. $\\mathbf{w}^T = [w_1, ..., w_m]$. Similarly, the vector of species abundances can be written as $\\mathbf{x}^T = [x_1, ..., x_m]$. The convention is that all vectors are column vectors and the transpose operation turns the vector into a row vector. \n",
    "\n",
    "$$\n",
    "\\mathbf{x} = \n",
    "\\begin{bmatrix}\n",
    "x_1 \\\\ \\vdots \\\\ x_m\n",
    "\\end{bmatrix} \n",
    "\\qquad \n",
    "\\mathbf{x}^T = \n",
    "\\begin{bmatrix}\n",
    "x_1, \\ldots, x_m\n",
    "\\end{bmatrix} \n",
    "$$\n",
    "\n",
    "The summation of parameters and species abundances is the same as the *dot product*:\n",
    "$$\n",
    "\\mathbf{w}^T \\cdot \\mathbf{x} = \\mathbf{x}^T \\cdot \\mathbf{w} = w_1 x_1 + ... + w_m  x_m = \\sum_{j = 1}^m w_j x_j\n",
    "$$\n",
    "\n",
    "Now the prediction of $y$ can be written as a dot product\n",
    "\n",
    "$$\n",
    "y = \\mathbf{x}^T \\cdot \\mathbf{w}\n",
    "$$\n",
    "\n",
    "Since we have $n$ observations of $y$, we can write them as an $n$ dimensional vector, $y_1, ..., y_n = \\mathbf{y}$. Now we can write a single equation that includes all samples and all parameters \n",
    "\n",
    "$$\n",
    "\\mathbf{y} = \n",
    "\\begin{bmatrix}\n",
    "y_1 \\\\ \\vdots \\\\ y_n \n",
    "\\end{bmatrix}\n",
    "=\n",
    "\\begin{bmatrix}\n",
    "\\mathbf{x}_1^T \\cdot \\mathbf{w} \\\\ \\vdots \\\\ \\mathbf{x}_n^T \\cdot \\mathbf{w}\n",
    "\\end{bmatrix}\n",
    "=\n",
    "\\begin{bmatrix}\n",
    "\\mathbf{x}_1^T \\\\ \\vdots \\\\ \\mathbf{x}_n^T \n",
    "\\end{bmatrix}\n",
    "\\cdot \\mathbf{w}\n",
    "= \n",
    "\\begin{bmatrix}\n",
    "x_{11} \\ldots x_{1 m} \\\\ \\vdots \\ddots \\vdots  \\\\ x_{n1} \\ldots x_{nm}\n",
    "\\end{bmatrix}\n",
    "\\cdot \\mathbf{w}\n",
    "=\n",
    "\\mathbf{X} \\cdot \\mathbf{w}\n",
    "$$\n",
    "\n",
    "$$\n",
    "\\mathbf{y} = \\mathbf{X} \\cdot \\mathbf{w}\n",
    "$$\n",
    "\n",
    "The above expression introduces the matrix, $\\mathbf{X}$, where an element of the matrix, $x_{ij}$, is the abundance of species $j$ in sample $i$. Matrices are conventionally noted as boldface capitalized variables. "
   ]
  },
  {
   "cell_type": "markdown",
   "metadata": {},
   "source": [
    "### For practice, try writing this sum of squares objective function using matrix-vector notation\n",
    "\n",
    "$$\n",
    "g(\\mathbf{w}) = \\sum_{i = 1}^n \\left( y_i - \\sum_{j = 1}^m w_j x_{ij} \\right)^2\n",
    "$$"
   ]
  }
 ],
 "metadata": {
  "kernelspec": {
   "display_name": "Python 3 (ipykernel)",
   "language": "python",
   "name": "python3"
  },
  "language_info": {
   "codemirror_mode": {
    "name": "ipython",
    "version": 3
   },
   "file_extension": ".py",
   "mimetype": "text/x-python",
   "name": "python",
   "nbconvert_exporter": "python",
   "pygments_lexer": "ipython3",
   "version": "3.9.7"
  }
 },
 "nbformat": 4,
 "nbformat_minor": 4
}
